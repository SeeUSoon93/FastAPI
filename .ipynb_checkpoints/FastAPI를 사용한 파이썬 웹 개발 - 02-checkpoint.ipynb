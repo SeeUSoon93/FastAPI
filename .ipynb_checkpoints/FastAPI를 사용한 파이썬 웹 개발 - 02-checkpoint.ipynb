{
 "cells": [
  {
   "cell_type": "markdown",
   "id": "e5b7834f",
   "metadata": {},
   "source": [
    "## 2.라우팅\n",
    "- 라우팅 : 클라이언트가 서버로 보내는 HTTP 요청을 처리하는 프로세스\n",
    "- HTTP 요청이 지정한 라우트로 전송되면 미리 정의된 로직이 해당 요청을 처리해서 반환"
   ]
  },
  {
   "cell_type": "markdown",
   "id": "5eb9c61a",
   "metadata": {},
   "source": [
    "### 2.1 FastAPI의 라우팅\n",
    "- 라우트는 HTTP 요청 메서드의 요청을 수락하고 선택적으로 인수를 받을 수 있도록 정의.\n",
    "- 요청이 특정 라우트로 전달되면 애플리케이션은 라우트 처리기가 요청을 처리하기전에 해당 라우트가 정의되어 있는지 확인\n",
    "- 라우트 처리기: 서버로 전송된 요청을 처리하는 함수"
   ]
  },
  {
   "cell_type": "markdown",
   "id": "ba38d4cc",
   "metadata": {},
   "source": [
    "### 2.2 APIRouter 클래스를 사용한 라우팅\n",
    "- APIRouter 클래스 : 다중 라우팅을 위한 경로 처리 클래스\n",
    "- "
   ]
  },
  {
   "cell_type": "markdown",
   "id": "a6db99e2",
   "metadata": {},
   "source": []
  },
  {
   "cell_type": "markdown",
   "id": "f83ec980",
   "metadata": {},
   "source": []
  },
  {
   "cell_type": "markdown",
   "id": "dc877cb4",
   "metadata": {},
   "source": []
  },
  {
   "cell_type": "markdown",
   "id": "0c7a60da",
   "metadata": {},
   "source": []
  },
  {
   "cell_type": "markdown",
   "id": "ded331c8",
   "metadata": {},
   "source": []
  },
  {
   "cell_type": "markdown",
   "id": "34565782",
   "metadata": {},
   "source": []
  },
  {
   "cell_type": "markdown",
   "id": "ebffc7e6",
   "metadata": {},
   "source": []
  },
  {
   "cell_type": "markdown",
   "id": "4f320872",
   "metadata": {},
   "source": []
  },
  {
   "cell_type": "markdown",
   "id": "5d175b98",
   "metadata": {},
   "source": []
  },
  {
   "cell_type": "code",
   "execution_count": null,
   "id": "a6966b18",
   "metadata": {},
   "outputs": [],
   "source": []
  },
  {
   "cell_type": "code",
   "execution_count": null,
   "id": "a50e88ed",
   "metadata": {},
   "outputs": [],
   "source": []
  }
 ],
 "metadata": {
  "kernelspec": {
   "display_name": "Python 3 (ipykernel)",
   "language": "python",
   "name": "python3"
  },
  "language_info": {
   "codemirror_mode": {
    "name": "ipython",
    "version": 3
   },
   "file_extension": ".py",
   "mimetype": "text/x-python",
   "name": "python",
   "nbconvert_exporter": "python",
   "pygments_lexer": "ipython3",
   "version": "3.11.5"
  }
 },
 "nbformat": 4,
 "nbformat_minor": 5
}
