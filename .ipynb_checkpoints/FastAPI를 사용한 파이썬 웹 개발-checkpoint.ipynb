{
 "cells": [
  {
   "cell_type": "markdown",
   "id": "8bb5b362",
   "metadata": {},
   "source": [
    "# FastAPI\n",
    "\n",
    "## 1.FastAPI 소개"
   ]
  },
  {
   "cell_type": "markdown",
   "id": "0d486cbc",
   "metadata": {},
   "source": [
    "### 1.1 Git 기초"
   ]
  },
  {
   "cell_type": "markdown",
   "id": "5251fcbc",
   "metadata": {},
   "source": [
    "### 1.2 virtualenv를 사용한 개발 환경 구축\n",
    "- 가상 환경에서 애플리케이션을 개발하면 특정 패키지를 시스테메 전역으로 설치하지 않아도 됨\n",
    "- 서로 다른 애플리케이션을 동시에 개발할 때 발생할 수 있는 충돌을 피할 수 있음"
   ]
  },
  {
   "cell_type": "markdown",
   "id": "a1078aa6",
   "metadata": {},
   "source": [
    "#### 가상환경 생성\n",
    "- venv 모듈을 사용해 가상 환경 생성 (mkdir todos && cd todos)\n",
    "- todos라는 폴더를 만들고 이 폴더 안에 가상 환경 생성하기 (python3 -m venv venv)\n",
    "- 가상 환경 활성화 (source venv/bin/activate)\n",
    "- 가상 환경 비활성화 (deactivate)"
   ]
  },
  {
   "cell_type": "markdown",
   "id": "e1ce8b93",
   "metadata": {},
   "source": [
    "### 1.3 pip을 사용한 패키지 관리"
   ]
  },
  {
   "cell_type": "markdown",
   "id": "5e9b3982",
   "metadata": {},
   "source": [
    "#### pip 설치\n",
    "- 파이선 설치 시 함께 설치 됨. 다음 명령을 사용해 pip이 설치됐는지 확인 (python3 -m pip list)"
   ]
  },
  {
   "cell_type": "code",
   "execution_count": null,
   "id": "921919cb",
   "metadata": {},
   "outputs": [],
   "source": []
  },
  {
   "cell_type": "code",
   "execution_count": null,
   "id": "3f765333",
   "metadata": {},
   "outputs": [],
   "source": []
  },
  {
   "cell_type": "code",
   "execution_count": null,
   "id": "0639f4f3",
   "metadata": {},
   "outputs": [],
   "source": []
  },
  {
   "cell_type": "code",
   "execution_count": null,
   "id": "20f0662a",
   "metadata": {},
   "outputs": [],
   "source": []
  },
  {
   "cell_type": "code",
   "execution_count": null,
   "id": "f41bbc3f",
   "metadata": {},
   "outputs": [],
   "source": []
  },
  {
   "cell_type": "code",
   "execution_count": null,
   "id": "e1fa7bdc",
   "metadata": {},
   "outputs": [],
   "source": []
  },
  {
   "cell_type": "code",
   "execution_count": null,
   "id": "6af3a4cf",
   "metadata": {},
   "outputs": [],
   "source": []
  }
 ],
 "metadata": {
  "kernelspec": {
   "display_name": "Python 3 (ipykernel)",
   "language": "python",
   "name": "python3"
  },
  "language_info": {
   "codemirror_mode": {
    "name": "ipython",
    "version": 3
   },
   "file_extension": ".py",
   "mimetype": "text/x-python",
   "name": "python",
   "nbconvert_exporter": "python",
   "pygments_lexer": "ipython3",
   "version": "3.11.5"
  }
 },
 "nbformat": 4,
 "nbformat_minor": 5
}
