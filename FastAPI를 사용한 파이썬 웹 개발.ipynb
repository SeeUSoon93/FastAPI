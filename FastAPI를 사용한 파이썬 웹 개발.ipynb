{
 "cells": [
  {
   "cell_type": "markdown",
   "id": "8bb5b362",
   "metadata": {},
   "source": [
    "# FastAPI\n",
    "\n",
    "## 1.FastAPI 소개"
   ]
  },
  {
   "cell_type": "markdown",
   "id": "0d486cbc",
   "metadata": {},
   "source": [
    "### 1.1 Git 기초\n",
    "\n",
    "- 여기서는 기록(저장) 목적으로 Git 사용법 학습\n",
    "\n",
    "#### Git 설치\n",
    "- "
   ]
  },
  {
   "cell_type": "code",
   "execution_count": null,
   "id": "87da697c",
   "metadata": {},
   "outputs": [],
   "source": []
  }
 ],
 "metadata": {
  "kernelspec": {
   "display_name": "Python 3 (ipykernel)",
   "language": "python",
   "name": "python3"
  },
  "language_info": {
   "codemirror_mode": {
    "name": "ipython",
    "version": 3
   },
   "file_extension": ".py",
   "mimetype": "text/x-python",
   "name": "python",
   "nbconvert_exporter": "python",
   "pygments_lexer": "ipython3",
   "version": "3.11.3"
  }
 },
 "nbformat": 4,
 "nbformat_minor": 5
}
